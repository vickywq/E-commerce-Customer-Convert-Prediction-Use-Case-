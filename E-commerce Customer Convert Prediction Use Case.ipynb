{
 "cells": [
  {
   "cell_type": "markdown",
   "metadata": {},
   "source": [
    "# Problem choose to solve: (2) building a model to predict whether a user is going to convert or not. "
   ]
  },
  {
   "cell_type": "code",
   "execution_count": 1,
   "metadata": {},
   "outputs": [],
   "source": [
    "#!pip install imblearn\n",
    "import pandas as pd\n",
    "import numpy as np\n",
    "import matplotlib.pyplot as plt\n",
    "import seaborn as sns\n",
    "import os\n",
    "from matplotlib import cm\n",
    "from collections import OrderedDict\n",
    "from sklearn.model_selection import TimeSeriesSplit\n",
    "from sklearn.model_selection import GridSearchCV\n",
    "from sklearn.metrics import confusion_matrix,classification_report\n",
    "from sklearn.neighbors import KNeighborsClassifier\n",
    "from sklearn.naive_bayes import GaussianNB\n",
    "from sklearn.linear_model import LogisticRegression\n",
    "from sklearn.ensemble import RandomForestClassifier\n",
    "from sklearn.utils import resample\n",
    "from sklearn.feature_selection import RFE\n",
    "from sklearn.pipeline import Pipeline\n",
    "from imblearn.over_sampling import RandomOverSampler\n",
    "from imblearn.under_sampling import RandomUnderSampler\n",
    "from sklearn.feature_selection import SelectKBest\n",
    "from sklearn.feature_selection import f_classif\n",
    "from collections import Counter\n",
    "from numpy import set_printoptions\n",
    "#!pip install yellowbrick\n",
    "from yellowbrick.model_selection import RFECV\n",
    "pd.set_option('display.max_rows', None)"
   ]
  },
  {
   "cell_type": "code",
   "execution_count": 2,
   "metadata": {},
   "outputs": [
    {
     "name": "stderr",
     "output_type": "stream",
     "text": [
      "C:\\Users\\vicky\\biol 487\\lib\\site-packages\\IPython\\core\\interactiveshell.py:3020: DtypeWarning: Columns (0) have mixed types.Specify dtype option on import or set low_memory=False.\n",
      "  interactivity=interactivity, compiler=compiler, result=result)\n"
     ]
    }
   ],
   "source": [
    "df=pd.read_csv(\"data.csv\") # load the data file"
   ]
  },
  {
   "cell_type": "markdown",
   "metadata": {},
   "source": [
    "# Data Cleaning and Feature Engineering(with EDA)"
   ]
  },
  {
   "cell_type": "code",
   "execution_count": 3,
   "metadata": {},
   "outputs": [
    {
     "data": {
      "text/plain": [
       "fullVisitorID              0\n",
       "visitNumber                0\n",
       "date                       0\n",
       "bounces               196928\n",
       "hits                       0\n",
       "pageviews                 36\n",
       "timeOnSite            196493\n",
       "transactionRevenue    387615\n",
       "transactions          387615\n",
       "source                     0\n",
       "channelGrouping            0\n",
       "browser                    0\n",
       "deviceCategory             0\n",
       "country                    0\n",
       "city                       0\n",
       "dtype: int64"
      ]
     },
     "execution_count": 3,
     "metadata": {},
     "output_type": "execute_result"
    }
   ],
   "source": [
    "df.isnull().sum() ## check null values(basically for numerical variable"
   ]
  },
  {
   "cell_type": "markdown",
   "metadata": {},
   "source": [
    "When checking the structure of the data, many missing values are detected in columns bounces, page views, time on site, transactions revenue, transactions. Except for bounces, these columns(variables) are all numeric variables, where value has numeric meaning, so filling these missing values with 0 is a great option. I also test if 0 is proper by checking the relationship among variables. (For example, I noticed that when bounces equal to 1, the transaction value and transactions are always null, which makes sense because if users quit from the website they wouldn’t make any transactions). The missing value of variable bounces was also filled with 0 since 0 here means no bounce. "
   ]
  },
  {
   "cell_type": "code",
   "execution_count": 254,
   "metadata": {},
   "outputs": [],
   "source": [
    "\n",
    "df.fillna(value=0, inplace=True) # fill the missing value for the numerica variables\n",
    "df['convert'] = df['transactions'].apply(lambda x: 1 if x !=0 else 0)## add label\"convert\", based on transactions column\n"
   ]
  },
  {
   "cell_type": "markdown",
   "metadata": {},
   "source": [
    "## EDA-1 check the percentage of labels\n",
    "The percentage of class1(convert) is only 1.3%, which imply that this is a very imbalanced dataset. Resampling is necessary for further classification model building"
   ]
  },
  {
   "cell_type": "code",
   "execution_count": 356,
   "metadata": {},
   "outputs": [
    {
     "data": {
      "text/plain": [
       "<matplotlib.axes._subplots.AxesSubplot at 0x1bc01831710>"
      ]
     },
     "execution_count": 356,
     "metadata": {},
     "output_type": "execute_result"
    },
    {
     "data": {
      "image/png": "[encoded data removed]",
      "text/plain": [
       "<Figure size 600x600 with 1 Axes>"
      ]
     },
     "metadata": {},
     "output_type": "display_data"
    }
   ],
   "source": [
    "## Look at the label percentage--very imbalanced dataset\n",
    "fig = plt.figure(figsize=(3,3), dpi=200)\n",
    "df['convert'].value_counts().plot(kind='pie', ax=plt.subplot(111), autopct='%1.1f%%', startangle=270, fontsize=10)"
   ]
  },
  {
   "cell_type": "code",
   "execution_count": 255,
   "metadata": {},
   "outputs": [
    {
     "name": "stdout",
     "output_type": "stream",
     "text": [
      "<class 'pandas.core.frame.DataFrame'>\n",
      "RangeIndex: 392892 entries, 0 to 392891\n",
      "Data columns (total 16 columns):\n",
      " #   Column              Non-Null Count   Dtype  \n",
      "---  ------              --------------   -----  \n",
      " 0   fullVisitorID       392892 non-null  object \n",
      " 1   visitNumber         392892 non-null  int64  \n",
      " 2   date                392892 non-null  int64  \n",
      " 3   bounces             392892 non-null  float64\n",
      " 4   hits                392892 non-null  int64  \n",
      " 5   pageviews           392892 non-null  float64\n",
      " 6   timeOnSite          392892 non-null  float64\n",
      " 7   transactionRevenue  392892 non-null  float64\n",
      " 8   transactions        392892 non-null  float64\n",
      " 9   source              392892 non-null  object \n",
      " 10  channelGrouping     392892 non-null  object \n",
      " 11  browser             392892 non-null  object \n",
      " 12  deviceCategory      392892 non-null  object \n",
      " 13  country             392892 non-null  object \n",
      " 14  city                392892 non-null  object \n",
      " 15  convert             392892 non-null  int64  \n",
      "dtypes: float64(5), int64(4), object(7)\n",
      "memory usage: 48.0+ MB\n"
     ]
    }
   ],
   "source": [
    "df.info()  ## check the variable type and data structure"
   ]
  },
  {
   "cell_type": "markdown",
   "metadata": {},
   "source": [
    "## EDA-2  Convert_percentage vs Browser\n",
    "The convert percentage was calculated by using the number of convert=1(that is, number of records that customer buy or made transactions-- recorded as variable convert1) divided by the total number of records for each browser(recorded as convert in the below code) *100%. The order for x-axis indicates the order of usage times for browsers. Only 8 out of 39 had transaction record(positive convert percentage). The bar graph below shows that Chrome was the most popular used browser and had the largest convert percentage(around 1.6%).Even though the Edge was the 6th popular used browser but it had the second largest convert percentage. This EDA also provide insights for feature generation"
   ]
  },
  {
   "cell_type": "code",
   "execution_count": 256,
   "metadata": {},
   "outputs": [],
   "source": [
    "## convert_percentage for different browers\n",
    "df2= df.groupby('browser').agg('count').sort_values(by='convert',ascending=False)['convert'].to_frame()\n",
    "df2['convert1']=df.groupby('browser').agg({'convert':'sum'}).sort_values(by='convert',ascending=False)['convert'].to_frame()\n",
    "df2['convert_percentage%']=df2['convert1']/df2['convert'] * 100"
   ]
  },
  {
   "cell_type": "code",
   "execution_count": 257,
   "metadata": {},
   "outputs": [
    {
     "data": {
      "image/png": "[encoded data removed]",
      "text/plain": [
       "<Figure size 1080x595.44 with 1 Axes>"
      ]
     },
     "metadata": {},
     "output_type": "display_data"
    }
   ],
   "source": [
    "df2=df2[df2['convert_percentage%']!=0]\n",
    "sns.set(rc={'figure.figsize':(15,8.27)})\n",
    "sns.barplot(x = df2.index, y = \"convert_percentage%\", data = df2)\n",
    "plt.show()"
   ]
  },
  {
   "cell_type": "code",
   "execution_count": 265,
   "metadata": {},
   "outputs": [],
   "source": [
    "# create new features  browser_new and country_new are both created based on EDA of convert percentage, due to code line limit only browser EDA is showed\n",
    "df['country_new'] = df['country'].apply(lambda x: 'North America' if x in['United States','Canada'] else 'other countries')\n",
    "df['browser_new'] = df['browser'].apply(lambda x: 'top_convert_browser' if x in ['Chrome','Edge', 'Internet Explorer', 'Firefox', 'Safari'] else 'other browsers')"
   ]
  },
  {
   "cell_type": "code",
   "execution_count": 266,
   "metadata": {},
   "outputs": [],
   "source": [
    "# drop features--source and city are deleted due to overlap with group channel and country, and most city information are missing\n",
    "df=df.drop(columns=['source','browser','country', 'city','fullVisitorID','transactions','transactionRevenue'],axis=1)"
   ]
  },
  {
   "cell_type": "code",
   "execution_count": 267,
   "metadata": {},
   "outputs": [
    {
     "name": "stderr",
     "output_type": "stream",
     "text": [
      "C:\\Users\\vicky\\biol 487\\lib\\site-packages\\ipykernel_launcher.py:5: FutureWarning: Series.dt.weekofyear and Series.dt.week have been deprecated.  Please use Series.dt.isocalendar().week instead.\n",
      "  \"\"\"\n"
     ]
    }
   ],
   "source": [
    "## generate time features\n",
    "df['date'] = df['date'].apply(lambda x: pd.to_datetime(str(x), format='%Y%m%d'))\n",
    "df['Day'] = df['date'].dt.day\n",
    "df['month'] = df['date'].dt.month\n",
    "df['Weekofyear'] = df['date'].dt.weekofyear\n",
    "df['Weekday'] = df['date'].dt.weekday\n"
   ]
  },
  {
   "cell_type": "code",
   "execution_count": 268,
   "metadata": {},
   "outputs": [],
   "source": [
    "date_for_later=df['date'] # save the date column for further use"
   ]
  },
  {
   "cell_type": "markdown",
   "metadata": {},
   "source": [
    "## EDA 3,4  Seasonality Pattern for Convert \n",
    "The number of convert cases are plotted against weekday and month, interesting seasonalities are found: May had the largest number of convert records than other 5 months, weekday had obvious higher records than weekend."
   ]
  },
  {
   "cell_type": "markdown",
   "metadata": {},
   "source": [
    "\n",
    "\n"
   ]
  },
  {
   "cell_type": "code",
   "execution_count": 271,
   "metadata": {},
   "outputs": [
    {
     "data": {
      "text/plain": [
       "<matplotlib.axes._subplots.AxesSubplot at 0x1bc01661780>"
      ]
     },
     "execution_count": 271,
     "metadata": {},
     "output_type": "execute_result"
    },
    {
     "data": {
      "image/png": "[encoded data removed]",
      "text/plain": [
       "<Figure size 1080x595.44 with 1 Axes>"
      ]
     },
     "metadata": {},
     "output_type": "display_data"
    }
   ],
   "source": [
    "plt.ylim(600, 1200)\n",
    "df3= df.groupby('month').agg({'convert':'sum'}).sort_index(axis=0)\n",
    "sns.barplot(data=df3, x=df3.index, y=\"convert\")"
   ]
  },
  {
   "cell_type": "code",
   "execution_count": 273,
   "metadata": {},
   "outputs": [
    {
     "data": {
      "text/plain": [
       "<matplotlib.axes._subplots.AxesSubplot at 0x1bc037cf208>"
      ]
     },
     "execution_count": 273,
     "metadata": {},
     "output_type": "execute_result"
    },
    {
     "data": {
      "image/png": "[encoded data removed]",
      "text/plain": [
       "<Figure size 1080x595.44 with 1 Axes>"
      ]
     },
     "metadata": {},
     "output_type": "display_data"
    }
   ],
   "source": [
    "plt.ylim(300, 1000)\n",
    "df4= df.groupby('Weekday').agg({'convert':'sum'}).sort_index(axis=0)\n",
    "sns.barplot(data=df4, x=df4.index, y=\"convert\")"
   ]
  },
  {
   "cell_type": "code",
   "execution_count": 275,
   "metadata": {},
   "outputs": [],
   "source": [
    "## transfer the categorical features to dummy\n",
    "df = pd.get_dummies(df, columns=['channelGrouping','deviceCategory', 'country_new', 'browser_new','Day','month','Weekofyear','Weekday']).apply(lambda x:x.values.astype(int))"
   ]
  },
  {
   "cell_type": "code",
   "execution_count": 276,
   "metadata": {},
   "outputs": [],
   "source": [
    "df['date']=date_for_later"
   ]
  },
  {
   "cell_type": "code",
   "execution_count": 277,
   "metadata": {},
   "outputs": [
    {
     "name": "stdout",
     "output_type": "stream",
     "text": [
      "<class 'pandas.core.frame.DataFrame'>\n",
      "RangeIndex: 392892 entries, 0 to 392891\n",
      "Data columns (total 93 columns):\n",
      " #   Column                           Non-Null Count   Dtype         \n",
      "---  ------                           --------------   -----         \n",
      " 0   visitNumber                      392892 non-null  int32         \n",
      " 1   date                             392892 non-null  datetime64[ns]\n",
      " 2   bounces                          392892 non-null  int32         \n",
      " 3   hits                             392892 non-null  int32         \n",
      " 4   pageviews                        392892 non-null  int32         \n",
      " 5   timeOnSite                       392892 non-null  int32         \n",
      " 6   convert                          392892 non-null  int32         \n",
      " 7   channelGrouping_(Other)          392892 non-null  int32         \n",
      " 8   channelGrouping_Affiliates       392892 non-null  int32         \n",
      " 9   channelGrouping_Direct           392892 non-null  int32         \n",
      " 10  channelGrouping_Display          392892 non-null  int32         \n",
      " 11  channelGrouping_Organic Search   392892 non-null  int32         \n",
      " 12  channelGrouping_Paid Search      392892 non-null  int32         \n",
      " 13  channelGrouping_Referral         392892 non-null  int32         \n",
      " 14  channelGrouping_Social           392892 non-null  int32         \n",
      " 15  deviceCategory_desktop           392892 non-null  int32         \n",
      " 16  deviceCategory_mobile            392892 non-null  int32         \n",
      " 17  deviceCategory_tablet            392892 non-null  int32         \n",
      " 18  country_new_North America        392892 non-null  int32         \n",
      " 19  country_new_other countries      392892 non-null  int32         \n",
      " 20  browser_new_other browsers       392892 non-null  int32         \n",
      " 21  browser_new_top_convert_browser  392892 non-null  int32         \n",
      " 22  Day_1                            392892 non-null  int32         \n",
      " 23  Day_2                            392892 non-null  int32         \n",
      " 24  Day_3                            392892 non-null  int32         \n",
      " 25  Day_4                            392892 non-null  int32         \n",
      " 26  Day_5                            392892 non-null  int32         \n",
      " 27  Day_6                            392892 non-null  int32         \n",
      " 28  Day_7                            392892 non-null  int32         \n",
      " 29  Day_8                            392892 non-null  int32         \n",
      " 30  Day_9                            392892 non-null  int32         \n",
      " 31  Day_10                           392892 non-null  int32         \n",
      " 32  Day_11                           392892 non-null  int32         \n",
      " 33  Day_12                           392892 non-null  int32         \n",
      " 34  Day_13                           392892 non-null  int32         \n",
      " 35  Day_14                           392892 non-null  int32         \n",
      " 36  Day_15                           392892 non-null  int32         \n",
      " 37  Day_16                           392892 non-null  int32         \n",
      " 38  Day_17                           392892 non-null  int32         \n",
      " 39  Day_18                           392892 non-null  int32         \n",
      " 40  Day_19                           392892 non-null  int32         \n",
      " 41  Day_20                           392892 non-null  int32         \n",
      " 42  Day_21                           392892 non-null  int32         \n",
      " 43  Day_22                           392892 non-null  int32         \n",
      " 44  Day_23                           392892 non-null  int32         \n",
      " 45  Day_24                           392892 non-null  int32         \n",
      " 46  Day_25                           392892 non-null  int32         \n",
      " 47  Day_26                           392892 non-null  int32         \n",
      " 48  Day_27                           392892 non-null  int32         \n",
      " 49  Day_28                           392892 non-null  int32         \n",
      " 50  Day_29                           392892 non-null  int32         \n",
      " 51  Day_30                           392892 non-null  int32         \n",
      " 52  Day_31                           392892 non-null  int32         \n",
      " 53  month_1                          392892 non-null  int32         \n",
      " 54  month_2                          392892 non-null  int32         \n",
      " 55  month_3                          392892 non-null  int32         \n",
      " 56  month_4                          392892 non-null  int32         \n",
      " 57  month_5                          392892 non-null  int32         \n",
      " 58  month_6                          392892 non-null  int32         \n",
      " 59  Weekofyear_1                     392892 non-null  int32         \n",
      " 60  Weekofyear_2                     392892 non-null  int32         \n",
      " 61  Weekofyear_3                     392892 non-null  int32         \n",
      " 62  Weekofyear_4                     392892 non-null  int32         \n",
      " 63  Weekofyear_5                     392892 non-null  int32         \n",
      " 64  Weekofyear_6                     392892 non-null  int32         \n",
      " 65  Weekofyear_7                     392892 non-null  int32         \n",
      " 66  Weekofyear_8                     392892 non-null  int32         \n",
      " 67  Weekofyear_9                     392892 non-null  int32         \n",
      " 68  Weekofyear_10                    392892 non-null  int32         \n",
      " 69  Weekofyear_11                    392892 non-null  int32         \n",
      " 70  Weekofyear_12                    392892 non-null  int32         \n",
      " 71  Weekofyear_13                    392892 non-null  int32         \n",
      " 72  Weekofyear_14                    392892 non-null  int32         \n",
      " 73  Weekofyear_15                    392892 non-null  int32         \n",
      " 74  Weekofyear_16                    392892 non-null  int32         \n",
      " 75  Weekofyear_17                    392892 non-null  int32         \n",
      " 76  Weekofyear_18                    392892 non-null  int32         \n",
      " 77  Weekofyear_19                    392892 non-null  int32         \n",
      " 78  Weekofyear_20                    392892 non-null  int32         \n",
      " 79  Weekofyear_21                    392892 non-null  int32         \n",
      " 80  Weekofyear_22                    392892 non-null  int32         \n",
      " 81  Weekofyear_23                    392892 non-null  int32         \n",
      " 82  Weekofyear_24                    392892 non-null  int32         \n",
      " 83  Weekofyear_25                    392892 non-null  int32         \n",
      " 84  Weekofyear_26                    392892 non-null  int32         \n",
      " 85  Weekofyear_52                    392892 non-null  int32         \n",
      " 86  Weekday_0                        392892 non-null  int32         \n",
      " 87  Weekday_1                        392892 non-null  int32         \n",
      " 88  Weekday_2                        392892 non-null  int32         \n",
      " 89  Weekday_3                        392892 non-null  int32         \n",
      " 90  Weekday_4                        392892 non-null  int32         \n",
      " 91  Weekday_5                        392892 non-null  int32         \n",
      " 92  Weekday_6                        392892 non-null  int32         \n",
      "dtypes: datetime64[ns](1), int32(92)\n",
      "memory usage: 140.9 MB\n"
     ]
    }
   ],
   "source": [
    "df.info()  ## check the feaure types and find that total 94 features were created for the model"
   ]
  },
  {
   "cell_type": "markdown",
   "metadata": {},
   "source": [
    "# Feature Selection\n",
    "Univariate selection method was chose for feature selection, and top 40 features are kept"
   ]
  },
  {
   "cell_type": "code",
   "execution_count": 278,
   "metadata": {},
   "outputs": [],
   "source": [
    "# generate potentail feature columns and stored in variable X, generate label and stored in y\n",
    "X= df.drop(columns=['convert','date'],axis=1)\n",
    "y=df['convert'].to_frame()\n"
   ]
  },
  {
   "cell_type": "code",
   "execution_count": 279,
   "metadata": {},
   "outputs": [
    {
     "name": "stderr",
     "output_type": "stream",
     "text": [
      "C:\\Users\\vicky\\AppData\\Roaming\\Python\\Python37\\site-packages\\sklearn\\utils\\validation.py:63: DataConversionWarning: A column-vector y was passed when a 1d array was expected. Please change the shape of y to (n_samples, ), for example using ravel().\n",
      "  return f(*args, **kwargs)\n"
     ]
    }
   ],
   "source": [
    "# feature extraction--applied Univariate Selection on features and select top 40 features\n",
    "best_features = SelectKBest(score_func=f_classif, k=40)\n",
    "fit = best_features.fit(X,y)"
   ]
  },
  {
   "cell_type": "code",
   "execution_count": 280,
   "metadata": {},
   "outputs": [],
   "source": [
    "# get scores of the feature selection method\n",
    "df_scores = pd.DataFrame(fit.scores_)\n",
    "df_columns = pd.DataFrame(X.columns)\n",
    "# concatenate dataframes\n",
    "feature_scores = pd.concat([df_columns, df_scores],axis=1)\n",
    "feature_scores.columns = ['Feature_Name','Score']  \n"
   ]
  },
  {
   "cell_type": "code",
   "execution_count": 281,
   "metadata": {},
   "outputs": [],
   "source": [
    "# take the top 40 featues and stored in a list\n",
    "top_40_features= feature_scores.sort_values(by='Score',ascending=False).Feature_Name[:41].tolist()"
   ]
  },
  {
   "cell_type": "code",
   "execution_count": 289,
   "metadata": {},
   "outputs": [],
   "source": [
    "\n",
    "df=df[top_40_features]## only take the 40 features in the df\n",
    "df['convert']=y ## add the label back"
   ]
  },
  {
   "cell_type": "code",
   "execution_count": 292,
   "metadata": {},
   "outputs": [],
   "source": [
    "df['date']=date_for_later # add the date back"
   ]
  },
  {
   "cell_type": "markdown",
   "metadata": {},
   "source": [
    "# Model Building\n",
    "## Train-Test Set Split\n",
    "To avoid data leakage, train and test set was generated based on date rather than using train-test-split function. The train-test set ratio is about 80:20"
   ]
  },
  {
   "cell_type": "code",
   "execution_count": 335,
   "metadata": {},
   "outputs": [
    {
     "data": {
      "text/plain": [
       "0.8039766653431477"
      ]
     },
     "execution_count": 335,
     "metadata": {},
     "output_type": "execute_result"
    }
   ],
   "source": [
    "# train-test set split: the data from 20170101 to 20170524 accounts for 80% of the dataset, which is good for train set\n",
    "X_train = df[(df['date']>=pd.to_datetime('20170101'))& (df['date'] <= pd.to_datetime('20170524'))].drop(columns=['convert'],axis=1)\n",
    "y_train = df[(df['date']>=pd.to_datetime('20170101'))& (df['date'] <= pd.to_datetime('20170524'))]['convert'].to_frame()\n",
    "X_test = df[(df['date']>pd.to_datetime('20170524'))].drop(columns=['convert'],axis=1)\n",
    "y_test =  df[(df['date']>pd.to_datetime('20170524'))]['convert'].to_frame()\n"
   ]
  },
  {
   "cell_type": "markdown",
   "metadata": {},
   "source": [
    "## Resampling"
   ]
  },
  {
   "cell_type": "code",
   "execution_count": 320,
   "metadata": {},
   "outputs": [],
   "source": [
    "## undersampling\n",
    "undersample = RandomUnderSampler(sampling_strategy='majority')\n",
    "# fit and apply the transform\n",
    "X_under, y_under = undersample.fit_resample(X_train.drop(columns=['date'],axis=1).to_numpy(), y_train.to_numpy())"
   ]
  },
  {
   "cell_type": "markdown",
   "metadata": {},
   "source": [
    "## Training the Model(Random Forest Classifier) with Hyperparameter Tunning"
   ]
  },
  {
   "cell_type": "code",
   "execution_count": 324,
   "metadata": {},
   "outputs": [],
   "source": [
    "\n",
    "model = RandomForestClassifier()\n",
    "# hyperparameter tunning with cross validation\n",
    "param_search = { 'n_estimators': [200,300,400,500,600],'max_depth' : [3,5,7,9]}\n",
    "tscv = TimeSeriesSplit(n_splits=4)\n",
    "gsearch = GridSearchCV(estimator=model, cv=tscv, param_grid=param_search, scoring = 'accuracy')\n",
    "gsearch.fit(X_under, y_under)\n",
    "#best_score = gsearch.best_score_\n",
    "best_model = gsearch.best_estimator_"
   ]
  },
  {
   "cell_type": "code",
   "execution_count": 325,
   "metadata": {},
   "outputs": [
    {
     "data": {
      "text/plain": [
       "RandomForestClassifier(max_depth=5, n_estimators=200)"
      ]
     },
     "execution_count": 325,
     "metadata": {},
     "output_type": "execute_result"
    }
   ],
   "source": [
    "best_model ##get the parameter with best performance"
   ]
  },
  {
   "cell_type": "markdown",
   "metadata": {},
   "source": [
    "## Model Evaluation\n",
    "generate classification report and confusion matrix"
   ]
  },
  {
   "cell_type": "code",
   "execution_count": 326,
   "metadata": {},
   "outputs": [
    {
     "name": "stdout",
     "output_type": "stream",
     "text": [
      "              precision    recall  f1-score   support\n",
      "\n",
      "           0       1.00      0.93      0.97     75883\n",
      "           1       0.18      0.99      0.31      1133\n",
      "\n",
      "    accuracy                           0.93     77016\n",
      "   macro avg       0.59      0.96      0.64     77016\n",
      "weighted avg       0.99      0.93      0.96     77016\n",
      "\n"
     ]
    }
   ],
   "source": [
    "# apply the tunned model on test set\n",
    "classifier_RF =RandomForestClassifier(max_depth=5,n_estimators=200)\n",
    "classifier_RF.fit(X_under,y_under)\n",
    "y_pred=classifier_RF.predict(X_test.drop(columns=['date'],axis=1))\n",
    "# generate classification report\n",
    "print(classification_report(y_test,y_pred))"
   ]
  },
  {
   "cell_type": "code",
   "execution_count": 327,
   "metadata": {},
   "outputs": [
    {
     "data": {
      "text/plain": [
       "array([[70810,  5073],\n",
       "       [   16,  1117]], dtype=int64)"
      ]
     },
     "execution_count": 327,
     "metadata": {},
     "output_type": "execute_result"
    }
   ],
   "source": [
    "# generate confusion matrix\n",
    "confusion_matrix(y_test,y_pred)"
   ]
  },
  {
   "cell_type": "markdown",
   "metadata": {},
   "source": [
    "## Check the Feature Importance and Built Final Model with Deducted Features\n",
    "from the feature importance we know that only 15 features had important effect on the model, the graph code is commented out"
   ]
  },
  {
   "cell_type": "code",
   "execution_count": 328,
   "metadata": {},
   "outputs": [
    {
     "name": "stdout",
     "output_type": "stream",
     "text": [
      "                            feature  importance\n",
      "0                         pageviews       0.306\n",
      "2                        timeOnSite       0.227\n",
      "1                              hits       0.198\n",
      "5                           bounces       0.075\n",
      "4         country_new_North America       0.061\n",
      "3       country_new_other countries       0.060\n",
      "11                      visitNumber       0.025\n",
      "6          channelGrouping_Referral       0.015\n",
      "7            deviceCategory_desktop       0.010\n",
      "8             deviceCategory_mobile       0.010\n",
      "9    channelGrouping_Organic Search       0.004\n",
      "10           channelGrouping_Social       0.004\n",
      "14            deviceCategory_tablet       0.001\n",
      "13       browser_new_other browsers       0.001\n",
      "12  browser_new_top_convert_browser       0.001\n",
      "28                          month_6       0.000\n",
      "39                           Day_17       0.000\n",
      "38                           Day_26       0.000\n",
      "37      channelGrouping_Paid Search       0.000\n",
      "36                           Day_13       0.000\n",
      "35                           Day_24       0.000\n",
      "34                     Weekofyear_3       0.000\n",
      "33                     Weekofyear_2       0.000\n",
      "32                        Weekday_1       0.000\n",
      "31                           Day_12       0.000\n",
      "30                     Weekofyear_8       0.000\n",
      "29                        Weekday_0       0.000\n",
      "20                    Weekofyear_19       0.000\n",
      "27                     Weekofyear_6       0.000\n",
      "26                     Weekofyear_4       0.000\n",
      "25                          month_2       0.000\n",
      "24                        Weekday_4       0.000\n",
      "23          channelGrouping_Display       0.000\n",
      "22                    Weekofyear_24       0.000\n",
      "21                          month_1       0.000\n",
      "19                        Weekday_6       0.000\n",
      "18                    Weekofyear_18       0.000\n",
      "17                        Weekday_5       0.000\n",
      "16                          month_5       0.000\n",
      "15       channelGrouping_Affiliates       0.000\n",
      "40                    Weekofyear_10       0.000\n"
     ]
    }
   ],
   "source": [
    "importances = pd.DataFrame({'feature': X_train.drop(columns=['date'],axis=1).columns,'importance':np.round(classifier_RF.feature_importances_,3)})\n",
    "importances= importances.sort_values('importance',ascending=False)\n",
    "print(importances)"
   ]
  },
  {
   "cell_type": "code",
   "execution_count": 1,
   "metadata": {},
   "outputs": [],
   "source": [
    "# Plot the importance value on a graph\n",
    "# imp = best_model.feature_importances_\n",
    "# features = X_train.drop(columns=['date'],axis=1).columns\n",
    "# indices = np.argsort(imp)\n",
    "# plt.title('Feature Importances')\n",
    "# plt.barh(range(len(indices)), imp[indices], color='b', align='center')\n",
    "# plt.yticks(range(len(indices)), [features[i] for i in indices])\n",
    "# plt.xlabel('Relative Importance')\n",
    "# plt.show()"
   ]
  },
  {
   "cell_type": "code",
   "execution_count": 334,
   "metadata": {},
   "outputs": [
    {
     "data": {
      "image/png": "[encoded data removed]",
      "text/plain": [
       "<Figure size 576x396 with 1 Axes>"
      ]
     },
     "metadata": {},
     "output_type": "display_data"
    },
    {
     "data": {
      "text/plain": [
       "<matplotlib.axes._subplots.AxesSubplot at 0x1bc99949780>"
      ]
     },
     "execution_count": 334,
     "metadata": {},
     "output_type": "execute_result"
    }
   ],
   "source": [
    "# Apply RFE to determine the best number of features\n",
    "visualizer = RFECV(RandomForestClassifier(max_depth=5, n_estimators=200))\n",
    "visualizer.fit(X_under,y_under)\n",
    "visualizer.show()\n"
   ]
  },
  {
   "cell_type": "markdown",
   "metadata": {},
   "source": [
    "since the RFE curve suggests that 10 features would have the best performance, the new train test set was then created with only 10 features with regard to their importance; The classification report and confusion matrix had shown that the model performance had been improved slightly(0.1 increase in accuracy, class 1 precision and f1 score)"
   ]
  },
  {
   "cell_type": "code",
   "execution_count": 344,
   "metadata": {},
   "outputs": [],
   "source": [
    "final_features=importances['feature'][:11].tolist()\n"
   ]
  },
  {
   "cell_type": "code",
   "execution_count": 352,
   "metadata": {},
   "outputs": [],
   "source": [
    "X_train_f=X_train[final_features]\n",
    "X_test_f=X_test[final_features]\n",
    "X_under_f, y_under_f = undersample.fit_resample(X_train_f.to_numpy(), y_train.to_numpy())\n",
    "classifier_RF.fit(X_under_f,y_under_f)\n",
    "y_pred_f=classifier_RF.predict(X_test_f)"
   ]
  },
  {
   "cell_type": "code",
   "execution_count": 353,
   "metadata": {},
   "outputs": [
    {
     "name": "stdout",
     "output_type": "stream",
     "text": [
      "              precision    recall  f1-score   support\n",
      "\n",
      "           0       1.00      0.94      0.97     75883\n",
      "           1       0.19      0.98      0.32      1133\n",
      "\n",
      "    accuracy                           0.94     77016\n",
      "   macro avg       0.60      0.96      0.64     77016\n",
      "weighted avg       0.99      0.94      0.96     77016\n",
      "\n"
     ]
    }
   ],
   "source": [
    "print(classification_report(y_test,y_pred_f))"
   ]
  },
  {
   "cell_type": "code",
   "execution_count": null,
   "metadata": {},
   "outputs": [],
   "source": [
    " "
   ]
  },
  {
   "cell_type": "code",
   "execution_count": null,
   "metadata": {},
   "outputs": [],
   "source": []
  }
 ],
 "metadata": {
  "kernelspec": {
   "display_name": "Python 3",
   "language": "python",
   "name": "python3"
  },
  "language_info": {
   "codemirror_mode": {
    "name": "ipython",
    "version": 3
   },
   "file_extension": ".py",
   "mimetype": "text/x-python",
   "name": "python",
   "nbconvert_exporter": "python",
   "pygments_lexer": "ipython3",
   "version": "3.7.1"
  }
 },
 "nbformat": 4,
 "nbformat_minor": 4
}
